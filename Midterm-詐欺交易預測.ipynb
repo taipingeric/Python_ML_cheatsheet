{
 "cells": [
  {
   "cell_type": "markdown",
   "metadata": {},
   "source": [
    "# 期中考\n",
    "### 各位技術班學員好，在這次期中考，各位學員將要自己打造自己的模型，去預測每一筆交易行為，是否為詐欺交易。"
   ]
  },
  {
   "cell_type": "markdown",
   "metadata": {},
   "source": [
    "## 探索資料欄位\n",
    "\n",
    "- step - 數字表示現實中的時間，1是1個小時的時間，總共744（30天的數據）。\n",
    "- type - CASH-IN:存錢, CASH-OUT:提款, DEBIT:支付, PAYMENT:付款, TRANSFER:轉帳\n",
    "\n",
    "-  amount - 交易金額，以當地貨幣。\n",
    "\n",
    "- nameOrig - 開始轉帳的客戶。\n",
    "\n",
    "- oldbalanceOrg - 交易前的初始餘額initial balance before the transaction\n",
    "\n",
    "- newbalanceOrig - 交易後的新餘額 new balance after the transaction\n",
    "\n",
    "- nameDest - 轉帳對象\n",
    "\n",
    "- oldbalanceDest - 轉帳對象，交易前的初始余額，不包含M開頭的人\n",
    "\n",
    "- newbalanceDest - 轉帳對象，交易後的新余額，不包含M開頭的人\n",
    "\n",
    "- Fraud - 目標，**各位學員要預測的就是，此筆交易是否為詐欺**。\n",
    "\n",
    "### 評估度量\n",
    "- **AUC** (Area Under the Curve)\n",
    "\n"
   ]
  },
  {
   "cell_type": "markdown",
   "metadata": {},
   "source": [
    "### 讀取檔案"
   ]
  },
  {
   "cell_type": "code",
   "execution_count": null,
   "metadata": {},
   "outputs": [],
   "source": [
    "import pandas as pd\n",
    "\n",
    "# 讀取檔案，train 為訓練集，test 為測試集，請預測test的Fraud的行為\n",
    "train = pd.read_csv('train.csv')\n",
    "test = pd.read_csv('test.csv')\n",
    "\n",
    "# 測試集的id\n",
    "test.id = test_id "
   ]
  },
  {
   "cell_type": "markdown",
   "metadata": {},
   "source": [
    "## 數據處理\n",
    "### 參考\n",
    "1. 使用`dtypes`，`value_counts`，`nunique`，`unique`...etc.去檢視數據資訊。\n",
    "2. 使用`isnull()`去做遺失數值檢視\n",
    "3. [Scikit-Learn Preprocessing](http://scikit-learn.org/stable/modules/classes.html#module-sklearn.preprocessing)\n",
    "4. [Quick and Dirty Data Analysis with Pandas](https://machinelearningmastery.com/quick-and-dirty-data-analysis-with-pandas/)"
   ]
  },
  {
   "cell_type": "code",
   "execution_count": null,
   "metadata": {},
   "outputs": [],
   "source": []
  },
  {
   "cell_type": "markdown",
   "metadata": {},
   "source": [
    "## 特徵工程（option）\n"
   ]
  },
  {
   "cell_type": "code",
   "execution_count": null,
   "metadata": {},
   "outputs": [],
   "source": []
  },
  {
   "cell_type": "markdown",
   "metadata": {},
   "source": [
    "## 模型訓練\n",
    "- [Scikit-Learn Ensemble](http://scikit-learn.org/stable/modules/classes.html#module-sklearn.ensemble)\n",
    "- [Scikit-Learn Decision Tree](http://scikit-learn.org/stable/modules/classes.html#module-sklearn.tree)\n",
    "- [XGBoost API](http://xgboost.readthedocs.io/en/latest/python/python_api.html#module-xgboost.sklearn)\n",
    "\n",
    "__注意:__沒有指定一定要使用哪個模型。"
   ]
  },
  {
   "cell_type": "code",
   "execution_count": null,
   "metadata": {},
   "outputs": [],
   "source": []
  },
  {
   "cell_type": "markdown",
   "metadata": {},
   "source": [
    "## 模型調參以及評估（option）\n",
    "- [Scikit-Learn 分類度量](http://scikit-learn.org/stable/modules/classes.html#classification-metrics)\n",
    "- [Scikit-Learn Hyper Parameter](http://scikit-learn.org/stable/modules/classes.html#hyper-parameter-optimizers)\n",
    "\n",
    "- [Scikit-Learn Model Selection](http://scikit-learn.org/stable/modules/classes.html#module-sklearn.model_selection)"
   ]
  },
  {
   "cell_type": "code",
   "execution_count": null,
   "metadata": {},
   "outputs": [],
   "source": []
  },
  {
   "cell_type": "markdown",
   "metadata": {},
   "source": [
    "## Kind remind \n",
    "`您的預測結果 = 您的模型.predict_proba(你要預測的東西)[:,1]`\n",
    "## 存檔\n",
    "範例：\n",
    "```\n",
    "submission = pd.DataFrame()\n",
    "submission['id'] = test_id\n",
    "submission['Fraud'] = 您的預測結果\n",
    "submission.to_csv('您的檔名.csv',index=False)\n",
    "```"
   ]
  },
  {
   "cell_type": "code",
   "execution_count": null,
   "metadata": {},
   "outputs": [],
   "source": []
  }
 ],
 "metadata": {
  "kernelspec": {
   "display_name": "Python 3",
   "language": "python",
   "name": "python3"
  },
  "language_info": {
   "codemirror_mode": {
    "name": "ipython",
    "version": 3
   },
   "file_extension": ".py",
   "mimetype": "text/x-python",
   "name": "python",
   "nbconvert_exporter": "python",
   "pygments_lexer": "ipython3",
   "version": "3.6.4"
  }
 },
 "nbformat": 4,
 "nbformat_minor": 2
}
