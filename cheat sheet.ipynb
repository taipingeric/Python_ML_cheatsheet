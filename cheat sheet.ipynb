{
 "cells": [
  {
   "cell_type": "code",
   "execution_count": 6,
   "metadata": {},
   "outputs": [
    {
     "data": {
      "text/plain": [
       "'\\narray([[ 1.,  0.,  0.,  0.,  0.],\\n       [ 0.,  0.,  1.,  0.,  0.],\\n       [ 0.,  0.,  0.,  0.,  1.],\\n       [ 0.,  1.,  0.,  0.,  0.]])\\n'"
      ]
     },
     "execution_count": 6,
     "metadata": {},
     "output_type": "execute_result"
    }
   ],
   "source": [
    "import numpy as np\n",
    "# One-hot encoding\n",
    "num_class = 5\n",
    "x = [0, 2, 4, 1]\n",
    "arr = np.eye(5)[x]\n",
    "arr\n",
    "'''\n",
    "array([[ 1.,  0.,  0.,  0.,  0.],\n",
    "       [ 0.,  0.,  1.,  0.,  0.],\n",
    "       [ 0.,  0.,  0.,  0.,  1.],\n",
    "       [ 0.,  1.,  0.,  0.,  0.]])\n",
    "'''"
   ]
  },
  {
   "cell_type": "code",
   "execution_count": null,
   "metadata": {},
   "outputs": [],
   "source": []
  }
 ],
 "metadata": {
  "kernelspec": {
   "display_name": "Python 3",
   "language": "python",
   "name": "python3"
  },
  "language_info": {
   "codemirror_mode": {
    "name": "ipython",
    "version": 3
   },
   "file_extension": ".py",
   "mimetype": "text/x-python",
   "name": "python",
   "nbconvert_exporter": "python",
   "pygments_lexer": "ipython3",
   "version": "3.5.1"
  }
 },
 "nbformat": 4,
 "nbformat_minor": 2
}
